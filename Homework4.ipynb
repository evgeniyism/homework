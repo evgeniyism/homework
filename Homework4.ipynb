{
 "cells": [
  {
   "cell_type": "markdown",
   "metadata": {},
   "source": [
    "## Задание 1"
   ]
  },
  {
   "cell_type": "markdown",
   "metadata": {},
   "source": [
    "Дан список вида:"
   ]
  },
  {
   "cell_type": "code",
   "execution_count": 1,
   "metadata": {},
   "outputs": [],
   "source": [
    "data = [\n",
    "    [13, 25, 23, 34],\n",
    "    [45, 32, 44, 47],\n",
    "    [12, 33, 23, 95],\n",
    "    [13, 53, 34, 35]\n",
    "]"
   ]
  },
  {
   "cell_type": "markdown",
   "metadata": {},
   "source": [
    "Напишите функцию, которая возвращает сумму элементов на диагонали. Т. е. 13+32+23+35.  \n",
    "Список может быть любой длины, но всегда является \"квадратным\" (количество элементов во вложенных списках равно их количеству)."
   ]
  },
  {
   "cell_type": "code",
   "execution_count": 2,
   "metadata": {},
   "outputs": [],
   "source": [
    "def sorting (info):\n",
    "    result = []\n",
    "    i = 0\n",
    "    for element in info:\n",
    "        result.append(element[i])\n",
    "        i += 1\n",
    "    return(sum(result))\n",
    "        \n",
    "            "
   ]
  },
  {
   "cell_type": "code",
   "execution_count": 3,
   "metadata": {},
   "outputs": [
    {
     "data": {
      "text/plain": [
       "103"
      ]
     },
     "execution_count": 3,
     "metadata": {},
     "output_type": "execute_result"
    }
   ],
   "source": [
    "sorting(data)"
   ]
  },
  {
   "cell_type": "markdown",
   "metadata": {},
   "source": [
    "## Задание 2"
   ]
  },
  {
   "cell_type": "markdown",
   "metadata": {},
   "source": [
    "Напишите функцию, возвращающую сумму первых n чисел Фибоначчи (для этого вам может понадобится ознакомиться с рекурсией)."
   ]
  },
  {
   "cell_type": "code",
   "execution_count": 4,
   "metadata": {
    "scrolled": true
   },
   "outputs": [],
   "source": [
    "def fibo (end):\n",
    "    result = []\n",
    "    end = int(end)\n",
    "    if end == 0:\n",
    "        result.append(0)\n",
    "    else:\n",
    "        result.append(0)\n",
    "        result.append(1)\n",
    "        a = 0\n",
    "        b = 1\n",
    "        for i in range(0, end-2):\n",
    "            c = a+b\n",
    "            result.append(c)\n",
    "            a = b\n",
    "            b = c\n",
    "    return (sum(result))  "
   ]
  },
  {
   "cell_type": "code",
   "execution_count": 5,
   "metadata": {},
   "outputs": [
    {
     "data": {
      "text/plain": [
       "10945"
      ]
     },
     "execution_count": 5,
     "metadata": {},
     "output_type": "execute_result"
    }
   ],
   "source": [
    "fibo(20)"
   ]
  },
  {
   "cell_type": "code",
   "execution_count": null,
   "metadata": {},
   "outputs": [],
   "source": []
  },
  {
   "cell_type": "markdown",
   "metadata": {},
   "source": [
    "## Задание 3\n"
   ]
  },
  {
   "cell_type": "markdown",
   "metadata": {},
   "source": [
    "Напишите функцию, преобразующую произвольный список вида ['2018-01-01', 'yandex', 'cpc', 100] (он может быть любой длины) в словарь {'2018-01-01': {'yandex': {'cpc': 100}}}"
   ]
  },
  {
   "cell_type": "code",
   "execution_count": 6,
   "metadata": {},
   "outputs": [],
   "source": [
    "def infdict(params):  \n",
    "    info = params\n",
    "    end = int(len(info))\n",
    "    d = {}\n",
    "    d2 = {}\n",
    "    step = 0 \n",
    "    for i in info:\n",
    "        if step == 0:                   #первый цикл - создание исходного словаря\n",
    "            val = info[end-1-step]\n",
    "            key = info[end-2-step]\n",
    "            d = {key: val}\n",
    "            step +=1                    #выходим из цикла\n",
    "        if step >= 1 and step < end-1:  #следующие циклы с чеком на остановку\n",
    "            key = info[end-2-step]      # формируем следующий ключ\n",
    "            d2 = {key: d}\n",
    "            d = d2                      # меняем имя словаря, чтобы далее добавлять последующие ключи\n",
    "            step +=1                    # добавляем шаг\n",
    "    print(d2)\n",
    "\n"
   ]
  },
  {
   "cell_type": "code",
   "execution_count": 7,
   "metadata": {},
   "outputs": [
    {
     "name": "stdout",
     "output_type": "stream",
     "text": [
      "{'2018-01-01': {'yandex': {'cpc': 100}}}\n"
     ]
    }
   ],
   "source": [
    "a = ['2018-01-01', 'yandex', 'cpc', 100]\n",
    "infdict(a)"
   ]
  },
  {
   "cell_type": "markdown",
   "metadata": {},
   "source": [
    "## Задание 4"
   ]
  },
  {
   "cell_type": "markdown",
   "metadata": {},
   "source": [
    "Вы работаете секретарем и вам постоянно приходят различные документы. Вы должны быть очень внимательны, чтобы не потерять ни один документ. Каталог документов хранится в следующем виде:"
   ]
  },
  {
   "cell_type": "code",
   "execution_count": 8,
   "metadata": {},
   "outputs": [],
   "source": [
    "documents = [\n",
    "    {'type': 'passport', 'number': '2207 876234', 'name': 'Василий Гупкин'},\n",
    "    {'type': 'invoice', 'number': '11-2', 'name': 'Геннадий Покемонов'},\n",
    "    {'type': 'insurance', 'number': '10006', 'name': 'Аристарх Павлов'}\n",
    "]"
   ]
  },
  {
   "cell_type": "markdown",
   "metadata": {},
   "source": [
    "Перечень полок, на которых находятся документы хранится в следующем виде:"
   ]
  },
  {
   "cell_type": "code",
   "execution_count": 9,
   "metadata": {},
   "outputs": [],
   "source": [
    "directories = {\n",
    "    '1': ['2207 876234', '11-2', '5455 028765'],\n",
    "    '2': ['10006', '5400 028765', '5455 002299'],\n",
    "    '3': []\n",
    "}"
   ]
  },
  {
   "cell_type": "code",
   "execution_count": 10,
   "metadata": {},
   "outputs": [],
   "source": [
    "# p – people – команда, которая спросит номер документа и выведет имя человека, которому он принадлежит;\n",
    "def find_name_by_number():    \n",
    "    req = input('Введите номер документа: ') \n",
    "    req = req.replace(' ', '')\n",
    "    req = req.replace('-', '')\n",
    "    req = req.replace('/', '')\n",
    "    req = req.replace('_', '')\n",
    "    req = req.replace('|', '')\n",
    "    check = False\n",
    "    for i in documents:\n",
    "        x = i['number']\n",
    "        x = x.replace(' ', '')\n",
    "        x = x.replace(' ', '')\n",
    "        x = x.replace('-', '')\n",
    "        x = x.replace('/', '')\n",
    "        x = x.replace('_', '')\n",
    "        x = x.replace('|', '')\n",
    "        if req in x:\n",
    "            print('Владелец документа: ', i['name'])\n",
    "            check = True\n",
    "            break\n",
    "        else:\n",
    "            check = False\n",
    "    if check == False:\n",
    "        print('Номер документа не найден')\n"
   ]
  },
  {
   "cell_type": "code",
   "execution_count": 11,
   "metadata": {},
   "outputs": [],
   "source": [
    "# s – shelf – команда, которая спросит номер документа и выведет номер полки, на которой он находится\n",
    "# Правильно обработайте ситуацию, когда пользователь будет вводить несуществующий документ.\n",
    "\n",
    "def find_shelf_by_doc():\n",
    "    requested_shelf = ''\n",
    "    req = input('Введите номер документа: ') \n",
    "    req = req.replace(' ', '')\n",
    "    req = req.replace('-', '')\n",
    "    req = req.replace('/', '')\n",
    "    req = req.replace('_', '')\n",
    "    req = req.replace('|', '')\n",
    "    check = False\n",
    "    for shelf in directories.keys():\n",
    "        for i in directories.values():\n",
    "            for x in i:\n",
    "                x = x.replace(' ', '')\n",
    "                x = x.replace(' ', '')\n",
    "                x = x.replace('-', '')\n",
    "                x = x.replace('/', '')\n",
    "                x = x.replace('_', '')\n",
    "                x = x.replace('|', '')\n",
    "                if req == x:\n",
    "                    check = True\n",
    "                    requested_shelf = shelf\n",
    "                    print('Документ на полке №', requested_shelf)\n",
    "        break\n",
    "    if check == False:\n",
    "        print('Номер документа не найден')"
   ]
  },
  {
   "cell_type": "code",
   "execution_count": 12,
   "metadata": {},
   "outputs": [],
   "source": [
    "# l – list – команда, которая выведет список всех документов в формате\n",
    "# passport \"2207 876234\" \"Василий Гупкин\"  \n",
    "\n",
    "def print_all_docs():\n",
    "    for i in documents:\n",
    "        print(i['type'], ' \"', i['number'], '\"', ' \"', i['name'],'\"', sep = '')"
   ]
  },
  {
   "cell_type": "code",
   "execution_count": 13,
   "metadata": {},
   "outputs": [],
   "source": [
    "# as – add shelf – команда, которая спросит номер новой полки и добавит ее в перечень\n",
    "\n",
    "def new_shelf_add():\n",
    "    exist = []\n",
    "    for i in directories:\n",
    "        i = str(i)\n",
    "        exist.append(i)\n",
    "    print('Существующие полки :', exist)\n",
    "    newshelf = input('Ведите номер новой полки: ')\n",
    "    if newshelf.isdigit() == True:   \n",
    "        if newshelf in directories.keys():\n",
    "            print('НЕ УДАЛОСЬ: такая полка уже существует')\n",
    "        else:\n",
    "            directories.update({newshelf: []})\n",
    "            print('Полка №', newshelf, 'успешно добавлена.')\n",
    "    else:\n",
    "        print('НЕ УДАЛОСЬ: введите номер полки в виде числа.')\n"
   ]
  },
  {
   "cell_type": "code",
   "execution_count": 14,
   "metadata": {
    "scrolled": false
   },
   "outputs": [],
   "source": [
    "#- d – delete – команда, которая спросит номер документа и удалит его из каталога и из перечня полок. \n",
    "# Предусмотрите сценарий, когда пользователь вводит несуществующий документ;  \n",
    "\n",
    "def delete_document():\n",
    "    req = input('Введите номер документа: ') \n",
    "    req = req.replace(' ', '')\n",
    "    req = req.replace('-', '')\n",
    "    req = req.replace('/', '')\n",
    "    req = req.replace('_', '')\n",
    "    req = req.replace('|', '')\n",
    "    checkA = False\n",
    "\n",
    "    if checkA == False:   \n",
    "        for i in documents:\n",
    "            x = i['number']\n",
    "            x = x.replace(' ', '')\n",
    "            x = x.replace(' ', '')\n",
    "            x = x.replace('-', '')\n",
    "            x = x.replace('/', '')\n",
    "            x = x.replace('_', '')\n",
    "            x = x.replace('|', '')\n",
    "            if req in x:\n",
    "                documents.remove(i)\n",
    "                i.pop('name')\n",
    "                print('Документ номер успешно удален.')\n",
    "                checkA = True\n",
    "            else:\n",
    "                checkA = False\n",
    "\n",
    "    checkB = False\n",
    "    if checkB == False:\n",
    "        for shelf in directories.keys():\n",
    "            for i in directories.values():\n",
    "                for x in i:\n",
    "                    x = x.replace(' ', '')\n",
    "                    x = x.replace(' ', '')\n",
    "                    x = x.replace('-', '')\n",
    "                    x = x.replace('/', '')\n",
    "                    x = x.replace('_', '')\n",
    "                    x = x.replace('|', '')\n",
    "                    if req == x:\n",
    "                        i.remove(x)\n",
    "\n",
    "    if checkA == False and checkB == False:\n",
    "        print('Номер документа не найден')"
   ]
  },
  {
   "cell_type": "code",
   "execution_count": 15,
   "metadata": {
    "scrolled": true
   },
   "outputs": [],
   "source": [
    "# m – move – команда, которая спросит номер документа и целевую полку и переместит его с текущей полки на целевую. \n",
    "# Корректно обработайте кейсы, когда пользователь пытается переместить несуществующий документ или переместить документ \n",
    "# на несуществующую полку;\n",
    "\n",
    "def move_doc_to_shelf():\n",
    "    req = input('Введите номер документа: ') \n",
    "    moveto = input('Введите новую полку для документа: ') \n",
    "    req = req.replace(' ', '')\n",
    "    req = req.replace('-', '')\n",
    "    req = req.replace('/', '')\n",
    "    req = req.replace('_', '')\n",
    "    req = req.replace('|', '')\n",
    "    check = False\n",
    "    for shelf in directories.keys():\n",
    "        for i in directories.values():\n",
    "            for x in i:\n",
    "                unformatted = x\n",
    "                x = x.replace(' ', '')\n",
    "                x = x.replace(' ', '')\n",
    "                x = x.replace('-', '')\n",
    "                x = x.replace('/', '')\n",
    "                x = x.replace('_', '')\n",
    "                x = x.replace('|', '')\n",
    "                if req == x:\n",
    "                    if moveto in directories.keys():\n",
    "                        check = True\n",
    "                        directories.update({moveto: [unformatted]})\n",
    "                        i.remove(unformatted)\n",
    "                    else:\n",
    "                        print('Желаемая полка не найдена. Чтобы создать полку используйте команду \"ads\".')\n",
    "                        check = True                        \n",
    "                        break\n",
    "        break\n",
    "    if check == False:\n",
    "        print('Номер документа не найден')\n",
    "    if check == True:                       \n",
    "        print('Документ успешно перемещен на полку ', moveto)\n"
   ]
  },
  {
   "cell_type": "code",
   "execution_count": 16,
   "metadata": {
    "scrolled": false
   },
   "outputs": [],
   "source": [
    "# a – add – команда, которая добавит новый документ в каталог и в перечень полок, спросив его номер, \n",
    "# тип, имя владельца и номер полки, на котором он будет храниться.\n",
    "\n",
    "def add_new_document():\n",
    "    shelfcheking = False\n",
    "    doc_type = input('Введите тип документа: ')\n",
    "    doc_number = input('Введите номер документа: ')\n",
    "    name = input('Введите имя владельца: ')\n",
    "    whatshelf = input('Введите номер полки для хранения: ')\n",
    "    if shelfcheking == False:\n",
    "        while whatshelf.isdigit() == False:\n",
    "            print('НЕ УДАЛОСЬ: введите номер полки в виде числа.')\n",
    "            whatshelf = input()\n",
    "        while whatshelf in directories.keys():\n",
    "            print('Такая полка уже существует, введите другой номер.')\n",
    "            whatshelf = input()\n",
    "        else:\n",
    "            shelfchek = True\n",
    "    newitem = {}\n",
    "    newitem.update({'type': doc_type})\n",
    "    newitem.update({'number': doc_number})\n",
    "    newitem.update({'name': name})\n",
    "    documents.append(newitem)\n",
    "    f = [newitem['number']]\n",
    "    directories.update({whatshelf: f})"
   ]
  },
  {
   "cell_type": "code",
   "execution_count": 17,
   "metadata": {},
   "outputs": [],
   "source": [
    "def sos():\n",
    "    helpme = ['- p или people – команда, которая спросит номер документа и выведет имя человека, которому он принадлежит',\n",
    "              '- s или shelf – команда, которая спросит номер документа и выведет номер полки, на которой он находится',\n",
    "              '- l или list – команда, которая выведет список всех документов в формате',\n",
    "              '- as или add shelf – команда, которая спросит номер новой полки и добавит ее в перечень',\n",
    "              '- ads или add shelf – команда, которая спросит номер новой полки и добавит ее в перечень',\n",
    "              '- d или delete – команда, которая спросит номер документа и удалит его из каталога и из перечня полок',\n",
    "              '- m или move – команда, которая спросит номер документа и целевую полку и переместит его с текущей полки на целевую',\n",
    "              '- a или add – команда, которая добавит новый документ в каталог и в перечень полок)',\n",
    "              '- stop - останавливает программу'\n",
    "    ]\n",
    "    for i in helpme:\n",
    "        print(i)"
   ]
  },
  {
   "cell_type": "code",
   "execution_count": 18,
   "metadata": {
    "scrolled": true
   },
   "outputs": [],
   "source": [
    "def main(): \n",
    "    user_input = input('Введите команду: ')\n",
    "    commands = ['p', 'people', 's', 'shelf', 'l', 'list', 'ads', 'add shelf', 'd', 'delete', 'm', 'move', 'a', 'add', 'help', 'stop']\n",
    "    go = True\n",
    "    while go == True:\n",
    "        if user_input in commands:\n",
    "                if user_input == 'p' or user_input == 'people':\n",
    "                    print('запускаю People')\n",
    "                    find_name_by_number()\n",
    "                    user_input = input('Введите команду: ')\n",
    "                elif user_input == 's' or user_input == 'shelf':\n",
    "                    print('запускаю Shelf')\n",
    "                    find_shelf_by_doc()\n",
    "                    user_input = input('Введите команду: ')\n",
    "                elif user_input == 'l' or user_input == 'list':\n",
    "                    print('запускаю List')\n",
    "                    print_all_docs()\n",
    "                    user_input = input('Введите команду: ')\n",
    "                elif user_input == 'ads' or user_input == 'add shelf': #не смог реализовать 'as', как в условии, т.к. системное имя. Заменил на 'ads'\n",
    "                    print('запускаю Add Shelf')\n",
    "                    new_shelf_add()\n",
    "                    user_input = input('Введите команду: ')\n",
    "                elif user_input == 'd' or user_input == 'delete':\n",
    "                    print('запускаю Delete')\n",
    "                    delete_document()\n",
    "                    user_input = input('Введите команду: ')\n",
    "                elif user_input == 'm' or user_input == 'move':\n",
    "                    print('запускаю Move')\n",
    "                    move_doc_to_shelf()\n",
    "                    user_input = input('Введите команду: ')\n",
    "                elif user_input == 'a' or user_input == 'add':\n",
    "                    print('запускаю Add')\n",
    "                    add_new_document()\n",
    "                    user_input = input('Введите команду: ')\n",
    "                elif user_input == 'help':\n",
    "                    print('запускаю Help')\n",
    "                    sos()\n",
    "                    user_input = input('Введите команду: ')\n",
    "                elif user_input == 'stop':\n",
    "                    print('Программа завершена')\n",
    "                    go = False\n",
    "        else:\n",
    "            print('Неверная команда, попробуйте еще раз.')\n",
    "            print('Для справки наберите help.')\n",
    "            user_input = input('Введите команду: ')"
   ]
  },
  {
   "cell_type": "markdown",
   "metadata": {},
   "source": [
    "Необходимо реализовать пользовательские команды (внимание! это не название функций, которые должны быть выразительными, а команды, которые вводит пользователь, чтобы получить необходимый результат):\n",
    "  \n",
    "- p – people – команда, которая спросит номер документа и выведет имя человека, которому он принадлежит;  \n",
    "- s – shelf – команда, которая спросит номер документа и выведет номер полки, на которой он находится  \n",
    "Правильно обработайте ситуацию, когда пользователь будет вводить несуществующий документ.\n",
    "- l – list – команда, которая выведет список всех документов в формате   \n",
    "**passport \"2207 876234\" \"Василий Гупкин\"**  \n",
    "- as – add shelf – команда, которая спросит номер новой полки и добавит ее в перечень\n",
    "- d – delete – команда, которая спросит номер документа и удалит его из каталога и из перечня полок. Предусмотрите сценарий, когда пользователь вводит несуществующий документ;  \n",
    "- m – move – команда, которая спросит номер документа и целевую полку и переместит его с текущей полки на целевую. Корректно обработайте кейсы, когда пользователь пытается переместить несуществующий документ или переместить документ на несуществующую полку;  \n",
    "- a – add – команда, которая добавит новый документ в каталог и в перечень полок, спросив его номер, тип, имя владельца и номер полки, на котором он будет храниться."
   ]
  },
  {
   "cell_type": "code",
   "execution_count": 20,
   "metadata": {
    "scrolled": false
   },
   "outputs": [
    {
     "name": "stdout",
     "output_type": "stream",
     "text": [
      "Введите команду: stop\n",
      "Программа завершена\n"
     ]
    }
   ],
   "source": [
    "main()"
   ]
  },
  {
   "cell_type": "code",
   "execution_count": null,
   "metadata": {
    "scrolled": true
   },
   "outputs": [],
   "source": []
  },
  {
   "cell_type": "code",
   "execution_count": null,
   "metadata": {
    "scrolled": true
   },
   "outputs": [],
   "source": []
  },
  {
   "cell_type": "code",
   "execution_count": null,
   "metadata": {},
   "outputs": [],
   "source": []
  },
  {
   "cell_type": "code",
   "execution_count": null,
   "metadata": {},
   "outputs": [],
   "source": []
  },
  {
   "cell_type": "code",
   "execution_count": null,
   "metadata": {},
   "outputs": [],
   "source": []
  },
  {
   "cell_type": "code",
   "execution_count": null,
   "metadata": {},
   "outputs": [],
   "source": []
  },
  {
   "cell_type": "code",
   "execution_count": null,
   "metadata": {},
   "outputs": [],
   "source": []
  },
  {
   "cell_type": "code",
   "execution_count": null,
   "metadata": {},
   "outputs": [],
   "source": []
  },
  {
   "cell_type": "code",
   "execution_count": null,
   "metadata": {},
   "outputs": [],
   "source": []
  },
  {
   "cell_type": "code",
   "execution_count": null,
   "metadata": {},
   "outputs": [],
   "source": []
  },
  {
   "cell_type": "code",
   "execution_count": null,
   "metadata": {},
   "outputs": [],
   "source": []
  },
  {
   "cell_type": "code",
   "execution_count": null,
   "metadata": {},
   "outputs": [],
   "source": []
  },
  {
   "cell_type": "code",
   "execution_count": null,
   "metadata": {},
   "outputs": [],
   "source": []
  },
  {
   "cell_type": "code",
   "execution_count": null,
   "metadata": {},
   "outputs": [],
   "source": []
  },
  {
   "cell_type": "code",
   "execution_count": null,
   "metadata": {},
   "outputs": [],
   "source": []
  },
  {
   "cell_type": "code",
   "execution_count": null,
   "metadata": {},
   "outputs": [],
   "source": []
  },
  {
   "cell_type": "code",
   "execution_count": null,
   "metadata": {},
   "outputs": [],
   "source": []
  }
 ],
 "metadata": {
  "kernelspec": {
   "display_name": "Python 3",
   "language": "python",
   "name": "python3"
  },
  "language_info": {
   "codemirror_mode": {
    "name": "ipython",
    "version": 3
   },
   "file_extension": ".py",
   "mimetype": "text/x-python",
   "name": "python",
   "nbconvert_exporter": "python",
   "pygments_lexer": "ipython3",
   "version": "3.7.4"
  }
 },
 "nbformat": 4,
 "nbformat_minor": 2
}
