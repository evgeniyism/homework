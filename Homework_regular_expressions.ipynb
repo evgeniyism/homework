{
 "cells": [
  {
   "cell_type": "markdown",
   "metadata": {},
   "source": [
    "# Домашнее задание к лекции \"Регулярные выражения\"\n",
    "Для зачета необходимо выполнить 4 задания.  \n",
    "Для зачета с отличием – все."
   ]
  },
  {
   "cell_type": "markdown",
   "metadata": {},
   "source": [
    "## Задание 1"
   ]
  },
  {
   "cell_type": "markdown",
   "metadata": {},
   "source": [
    "Напишите функцию, которая принимает на вход строку и проверяет является ли она валидным транспортным номером. Если да, то функция должна возвращать отдельно номер и регион."
   ]
  },
  {
   "cell_type": "code",
   "execution_count": 1,
   "metadata": {},
   "outputs": [],
   "source": [
    "import re"
   ]
  },
  {
   "cell_type": "code",
   "execution_count": 2,
   "metadata": {},
   "outputs": [
    {
     "name": "stdout",
     "output_type": "stream",
     "text": [
      "Введите номер автомобиля без пробелов: М654АМ755\n",
      "Верный номер\n"
     ]
    }
   ],
   "source": [
    "plate = input('Введите номер автомобиля без пробелов: ')\n",
    "pattern = '[а|в|е|к|м|н|о|р|с|т|у|х|А|В|Е|К|М|Н|О|Р|С|Т|У|Х|a-z|A-Z]{1}\\d\\d\\d[а|в|е|к|м|н|о|р|с|т|у|х|А|В|Е|К|М|Н|О|Р|С|Т|У|Х|a-z|A-Z]{2}\\d{2,3}'\n",
    "if len(plate) <= 9:\n",
    "    match = re.match(pattern, plate)\n",
    "    print('Верный номер' if match else 'Неверный номер')\n"
   ]
  },
  {
   "cell_type": "markdown",
   "metadata": {},
   "source": [
    "## Задание 2"
   ]
  },
  {
   "cell_type": "markdown",
   "metadata": {},
   "source": [
    "Напишите функцию, которая проверяет e-mail адрес на валидность по стандарту RFC822: http://www.w3.org/Protocols/rfc822/. Для этого постарайтесь написать (в крайнем случае найти) самый полный шаблон для проверки e-mail адресов через регулярное выражение. Разберитесь и напишите примеры, какие ваш шаблон может не охватить."
   ]
  },
  {
   "cell_type": "code",
   "execution_count": 3,
   "metadata": {},
   "outputs": [
    {
     "name": "stdout",
     "output_type": "stream",
     "text": [
      "Введите email: evgeniy@mail.ru\n",
      "Верный email\n"
     ]
    }
   ],
   "source": [
    "mail = input('Введите email: ')\n",
    "pattern = '(([^:\\,#№''\"\"\\\\|/><!&?][a-zA-Z0-9]+)|([a-zA-Z0-9][^:\\,#№''\"\"\\\\|/><!&?]))@(([^:\\,#№''\"\"\\\\|/><!&?][a-zA-Z0-9]+)|([a-zA-Z0-9]+[^:\\,#№''\"\"\\\\|/><!&?]+))\\.[a-zA-Z]{2,4}'\n",
    "match = re.match(pattern, mail)\n",
    "print('Верный email' if match else 'Неверный email')\n",
    "#Базовые варианты вроде проходят. Лишние символы в исключениях. Могут быть проблемы с двойными доменными зонами или необычными/длинными\n"
   ]
  },
  {
   "cell_type": "code",
   "execution_count": null,
   "metadata": {},
   "outputs": [],
   "source": []
  },
  {
   "cell_type": "markdown",
   "metadata": {},
   "source": [
    "## Задание 3\n",
    "Напишите функцию, которая будет удалять все последовательные повторы слов из заданной строки."
   ]
  },
  {
   "cell_type": "code",
   "execution_count": 4,
   "metadata": {},
   "outputs": [
    {
     "name": "stdout",
     "output_type": "stream",
     "text": [
      "регулярные выражения горят в аду\n"
     ]
    }
   ],
   "source": [
    "newline = 'регулярные регулярные выражения горят горят в аду аду'\n",
    "pattern = '\\w+' \n",
    "match = re.findall(pattern, newline)\n",
    "newlist = []\n",
    "for i in match:\n",
    "    if i not in newlist:\n",
    "        newlist.append(i)\n",
    "newstring = ' '.join(newlist)\n",
    "print(newstring)"
   ]
  },
  {
   "cell_type": "markdown",
   "metadata": {},
   "source": [
    "## Задание 4\n",
    "Напишите функцию, которая будет проверять номер сотового телефона на валидность, если он валиден, то переводить его в формат:   \n",
    "+7(xxx)-xxx-xx-xx  \n",
    "Постарайтесь предусмотреть как можно больше адекватных форматов изначального ввода номера.\n",
    "Примеры правильных и неправильных форматов:\n",
    "- +7 955 555-55-55;\n",
    "- 955555555;\n",
    "- 8(955)555-55-55;\n",
    "- +7 955 555 55 55;\n",
    "- 7(955) 555-55-55;\n",
    "- +7 955+555+55+55."
   ]
  },
  {
   "cell_type": "code",
   "execution_count": 67,
   "metadata": {},
   "outputs": [],
   "source": [
    "def checktel(tel):\n",
    "    newtel = re.sub(r'.[78+].(\\d\\d\\d).(\\d\\d\\d).(\\d\\d).(\\d\\d)|[78+].(\\d\\d\\d)..(\\d\\d\\d).(\\d\\d).(\\d\\d)|(/d/d/d)(/d/d/d)(/d/d)(/d/d)', r'+7(\\1)-\\2-\\3-\\4', tel)\n",
    "    return(newtel)\n",
    "#короче, я сдаюсь. Достаточаня регулярка мне видится так \".\\d.\\d\\d\\d.\\d\\d\\d.\\d\\d.\\d\\d\". Все что требуется от юзера ввести 11 цифр."
   ]
  },
  {
   "cell_type": "code",
   "execution_count": 68,
   "metadata": {
    "scrolled": true
   },
   "outputs": [
    {
     "name": "stdout",
     "output_type": "stream",
     "text": [
      "Введите номер: 7(955) 555-55-55\n"
     ]
    },
    {
     "data": {
      "text/plain": [
       "'+7()---'"
      ]
     },
     "execution_count": 68,
     "metadata": {},
     "output_type": "execute_result"
    }
   ],
   "source": [
    "tel = input('Введите номер: ')\n",
    "checktel(tel)"
   ]
  },
  {
   "cell_type": "code",
   "execution_count": 8,
   "metadata": {},
   "outputs": [],
   "source": []
  },
  {
   "cell_type": "code",
   "execution_count": null,
   "metadata": {},
   "outputs": [],
   "source": []
  }
 ],
 "metadata": {
  "kernelspec": {
   "display_name": "Python 3",
   "language": "python",
   "name": "python3"
  },
  "language_info": {
   "codemirror_mode": {
    "name": "ipython",
    "version": 3
   },
   "file_extension": ".py",
   "mimetype": "text/x-python",
   "name": "python",
   "nbconvert_exporter": "python",
   "pygments_lexer": "ipython3",
   "version": "3.7.4"
  }
 },
 "nbformat": 4,
 "nbformat_minor": 2
}
