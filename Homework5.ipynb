{
 "cells": [
  {
   "cell_type": "markdown",
   "metadata": {},
   "source": [
    "# Домашнее задание\n",
    "1. Переведите содержимое файла purchase_log.txt в словарь purchases вида:\n",
    "```python\n",
    "{'1840e0b9d4': 'Продукты', ...}\n",
    "```\n",
    "\n",
    "2. Для каждого user_id в файле visit_log.csv добавьте третий столбец с категорией покупки (если покупка была).\n",
    "\n",
    "3. Запишите в файл funnel.csv визиты из файла visit_log.csv, в которых были покупки с указанием категории.\n",
    "\n",
    "Учтите условия на данные:\n",
    "- содержимое purchase_log.txt помещается в оперативную память компьютера\n",
    "- содержимое visit_log.csv - нет; используйте только построчную обработку этого файла"
   ]
  },
  {
   "cell_type": "code",
   "execution_count": 12,
   "metadata": {},
   "outputs": [],
   "source": [
    "def clean(string):\n",
    "    newstring = string.replace('\"','').replace('''''','').replace(':','').replace(',','').replace('{','').replace('}','').split()\n",
    "    return(newstring)"
   ]
  },
  {
   "cell_type": "code",
   "execution_count": 13,
   "metadata": {},
   "outputs": [],
   "source": [
    "buylog = {}\n",
    "with open('purchase_log.txt', 'r', encoding = 'utf-8') as plog:\n",
    "    for i in plog:\n",
    "        raw = clean(plog.readline())\n",
    "        if len(raw) == 5:\n",
    "            raw[3] = raw[3] + ' ' + raw[4]\n",
    "            raw.remove(raw[4])\n",
    "        elif len(raw) == 6:\n",
    "            raw[3] = raw[3] + ' ' + raw[4] + ' ' + raw[5]\n",
    "            raw.remove(raw[4])\n",
    "            raw.remove(raw[4])\n",
    "        buylog.update({raw[1]:raw[3]})\n"
   ]
  },
  {
   "cell_type": "code",
   "execution_count": 20,
   "metadata": {},
   "outputs": [],
   "source": [
    "f = open ('funnel.csv', 'w') #помню, что открывать нужно всегда в контексте, здесь так сделал, т.к. новый файл создаю.\n",
    "with open('visit_log.csv', 'r') as vis:\n",
    "    counter = 0\n",
    "    for i in vis:\n",
    "        source = vis.readline().strip('\\n').split(',')\n",
    "        for key in buylog.keys():\n",
    "            if source[0] == key:\n",
    "                purch = source\n",
    "                source.append(buylog[key])\n",
    "                newstring = ','.join(purch)\n",
    "                f.write(newstring)\n",
    "                f.write('\\n')\n",
    "f.close()"
   ]
  },
  {
   "cell_type": "code",
   "execution_count": 19,
   "metadata": {},
   "outputs": [],
   "source": []
  },
  {
   "cell_type": "code",
   "execution_count": null,
   "metadata": {},
   "outputs": [],
   "source": []
  },
  {
   "cell_type": "code",
   "execution_count": null,
   "metadata": {},
   "outputs": [],
   "source": []
  }
 ],
 "metadata": {
  "kernelspec": {
   "display_name": "Python 3",
   "language": "python",
   "name": "python3"
  },
  "language_info": {
   "codemirror_mode": {
    "name": "ipython",
    "version": 3
   },
   "file_extension": ".py",
   "mimetype": "text/x-python",
   "name": "python",
   "nbconvert_exporter": "python",
   "pygments_lexer": "ipython3",
   "version": "3.7.4"
  }
 },
 "nbformat": 4,
 "nbformat_minor": 2
}
