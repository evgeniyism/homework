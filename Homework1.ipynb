{
 "cells": [
  {
   "cell_type": "markdown",
   "metadata": {},
   "source": [
    "## Задача 1"
   ]
  },
  {
   "cell_type": "code",
   "execution_count": 7,
   "metadata": {},
   "outputs": [],
   "source": [
    "# Даны 2 строки long_phrase и short_phrase. Напишите код, который проверяет действительно ли длинная \n",
    "# фраза long_phrase длиннее короткой short_phrase. И выводит True или False в зависимости от результата сравнения.\n",
    "\n",
    "long_phrase = 'Насколько проще было бы писать программы, если бы не заказчики'\n",
    "short_phrase = '640Кб должно хватить для любых задач. Билл Гейтс (по легенде)'"
   ]
  },
  {
   "cell_type": "code",
   "execution_count": 8,
   "metadata": {},
   "outputs": [
    {
     "data": {
      "text/plain": [
       "True"
      ]
     },
     "execution_count": 8,
     "metadata": {},
     "output_type": "execute_result"
    }
   ],
   "source": [
    "len(long_phrase) > len(short_phrase)"
   ]
  },
  {
   "cell_type": "markdown",
   "metadata": {},
   "source": [
    "## Задача 2"
   ]
  },
  {
   "cell_type": "code",
   "execution_count": 9,
   "metadata": {},
   "outputs": [],
   "source": [
    "#  Дано значение объема файла в байтах. Напишите перевод этого значения в мегабайты в формате:\n",
    "# ‘Объем файла равен 213.68Mb’"
   ]
  },
  {
   "cell_type": "code",
   "execution_count": 11,
   "metadata": {
    "scrolled": true
   },
   "outputs": [
    {
     "name": "stdout",
     "output_type": "stream",
     "text": [
      "Введите размер в байтах 6546556546546546\n",
      "Объем файла равен  6243282839.34 Mb\n"
     ]
    }
   ],
   "source": [
    "bytes = int(input('Введите размер в байтах '))\n",
    "mbs = bytes/2**20\n",
    "print('Объем файла равен ', round(mbs, 2), 'Mb')"
   ]
  },
  {
   "cell_type": "markdown",
   "metadata": {},
   "source": [
    "## Задача 3"
   ]
  },
  {
   "cell_type": "code",
   "execution_count": 12,
   "metadata": {},
   "outputs": [],
   "source": [
    "# Разработать приложение для определения знака зодиака по дате рождения.\n",
    "# Пример:\n",
    "# Введите месяц: март\n",
    "# Введите число: 6\n",
    "# Вывод:\n",
    "# Рыбы"
   ]
  },
  {
   "cell_type": "code",
   "execution_count": 13,
   "metadata": {
    "scrolled": true
   },
   "outputs": [
    {
     "name": "stdout",
     "output_type": "stream",
     "text": [
      "Введите месяц:апрель\n",
      "Введите число:22\n",
      "Телец\n"
     ]
    }
   ],
   "source": [
    "month = (input('Введите месяц:'))\n",
    "date = int(input('Введите число:'))\n",
    "\n",
    "if month == 'январь':\n",
    "    if date > 1 and date < 19:\n",
    "        print('Козерог')\n",
    "    elif date >= 19:\n",
    "        print('Водолей')\n",
    "        \n",
    "elif month == 'февраль':\n",
    "    if date > 1 and date < 19:\n",
    "        print('Водолей')\n",
    "    elif date >= 19:\n",
    "        print('Рыбы')\n",
    "        \n",
    "elif month == 'март':\n",
    "    if date > 1 and date < 20:\n",
    "        print('Рыбы')\n",
    "    elif date >= 20:\n",
    "        print('Овен')\n",
    "\n",
    "elif month == 'апрель':\n",
    "    if date > 1 and date < 22:\n",
    "        print('Овен')\n",
    "    elif date >= 22:\n",
    "        print('Телец')\n",
    "\n",
    "elif month == 'май':\n",
    "    if date > 1 and date < 22:\n",
    "        print('Телец')\n",
    "    elif date >= 22:\n",
    "        print('Близнецы')\n",
    "\n",
    "elif month == 'июнь':\n",
    "    if date > 1 and date < 21:\n",
    "        print('Близнецы')\n",
    "    elif date >= 21:\n",
    "        print('Рак')\n",
    "\n",
    "elif month == 'июль':\n",
    "    if date > 1 and date < 22:\n",
    "        print('Рак')\n",
    "    elif date >= 22:\n",
    "        print('Лев')\n",
    "        \n",
    "elif month == 'август':\n",
    "    if date > 1 and date < 22:\n",
    "        print('Лев')\n",
    "    elif date >= 22:\n",
    "        print('Дева')\n",
    "\n",
    "elif month == 'сентябрь':\n",
    "    if date > 1 and date < 22:\n",
    "        print('Дева')\n",
    "    elif date >= 22:\n",
    "        print('Весы')\n",
    "\n",
    "elif month == 'октябрь':\n",
    "    if date > 1 and date < 22:\n",
    "        print('Весы')\n",
    "    elif date >= 22:\n",
    "        print('Скорпион')\n",
    "        \n",
    "elif month == 'ноябрь':\n",
    "    if date > 1 and date < 21:\n",
    "        print('Скорпион')\n",
    "    elif date >= 21:\n",
    "        print('Стрелец')\n",
    "\n",
    "else:\n",
    "    print('Водолей')"
   ]
  },
  {
   "cell_type": "markdown",
   "metadata": {},
   "source": [
    "## Задача 4"
   ]
  },
  {
   "cell_type": "markdown",
   "metadata": {},
   "source": [
    "Нужно разработать приложение для финансового планирования.\n",
    "Приложение учитывает сколько уходит на ипотеку, “на жизнь” и сколько нужно отложить на пенсию.\n",
    "Пользователь вводит заработанную плату в месяц.\n",
    "Сколько процентов от зп уходит на ипотеку.\n",
    "Сколько процентов от зп уходит “на жизнь”.\n",
    "Сколько раз приходит премия в год.\n",
    "Остальная часть заработанной платы откладывается на пенсию.\n",
    "Также пользователю приходит премия в размере зарплаты, от которой половина уходит на отпуск, а вторая половина откладывается.\n",
    "Программа должна учитывать сколько премий было в год.\n",
    "Нужно вывести сколько денег тратит пользователь на ипотеку и сколько он накопит за год.\n",
    "Пример:\n",
    "\n",
    "Введите заработанную плату в месяц: 100000\n",
    "Введите сколько процентов уходит на ипотеку: 30\n",
    "Введите сколько процентов уходит на жизнь: 50\n",
    "Введите количество премий за год: 2\n",
    "\n",
    "Вывод:\n",
    "На ипотеку было потрачено: 360000 рублей\n",
    "Было накоплено: 340000 рублей"
   ]
  },
  {
   "cell_type": "code",
   "execution_count": 14,
   "metadata": {
    "scrolled": false
   },
   "outputs": [
    {
     "name": "stdout",
     "output_type": "stream",
     "text": [
      "Введите заработную плату в месяц100000\n",
      "Введите сколько процентов уходит на ипотеку30\n",
      "Введите сколько процентов уходит на жизнь50\n",
      "Введите количество премий за год2\n",
      "На ипотеку потрачено  360000.0 рублей\n",
      "Было накоплено 340000.0 рублей\n"
     ]
    }
   ],
   "source": [
    "salary = int(input('Введите заработную плату в месяц'))\n",
    "mortgage = int(input('Введите сколько процентов уходит на ипотеку'))\n",
    "living = int(input('Введите сколько процентов уходит на жизнь'))\n",
    "bonus = int(input('Введите количество премий за год'))\n",
    "#посчитаем расходы за год, переводим проценты в десятичную дробь\n",
    "year_mortgage = mortgage * 0.01 * salary * 12\n",
    "year_living = living * 0.01 * salary * 12\n",
    "# посчитаем годовой доход с учетом премий (берем половину премий, т.к. вторая половина уходит на отпуск)\n",
    "income = salary * 12 + salary * bonus / 2 \n",
    "# накопления = годовой доход с половиной премий - расходы на жизнь и ипотеку\n",
    "savings = income - year_living - year_mortgage\n",
    "print('На ипотеку потрачено ', year_mortgage, 'рублей')\n",
    "print('Было накоплено', savings, 'рублей')"
   ]
  },
  {
   "cell_type": "markdown",
   "metadata": {},
   "source": [
    "## Доп. задание 1\n"
   ]
  },
  {
   "cell_type": "code",
   "execution_count": 15,
   "metadata": {},
   "outputs": [
    {
     "name": "stdout",
     "output_type": "stream",
     "text": [
      "1\n",
      "2\n",
      "fizz\n",
      "4\n",
      "buzz\n",
      "fizz\n",
      "7\n",
      "8\n",
      "fizz\n",
      "buzz\n",
      "11\n",
      "fizz\n",
      "13\n",
      "14\n",
      "fizz buzz\n",
      "16\n",
      "17\n",
      "fizz\n",
      "19\n"
     ]
    }
   ],
   "source": [
    "for i in range (1,20):\n",
    "    if i % 3 == 0 and i % 5 == 0:\n",
    "        print('fizz buzz')\n",
    "    elif i % 3 == 0:\n",
    "        print('fizz')\n",
    "    elif i % 5 == 0:\n",
    "        print('buzz')\n",
    "    else:\n",
    "        print(i)"
   ]
  },
  {
   "cell_type": "code",
   "execution_count": null,
   "metadata": {},
   "outputs": [],
   "source": []
  }
 ],
 "metadata": {
  "kernelspec": {
   "display_name": "Python 3",
   "language": "python",
   "name": "python3"
  },
  "language_info": {
   "codemirror_mode": {
    "name": "ipython",
    "version": 3
   },
   "file_extension": ".py",
   "mimetype": "text/x-python",
   "name": "python",
   "nbconvert_exporter": "python",
   "pygments_lexer": "ipython3",
   "version": "3.7.4"
  }
 },
 "nbformat": 4,
 "nbformat_minor": 2
}
