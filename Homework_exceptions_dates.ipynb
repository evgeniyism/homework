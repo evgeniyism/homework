{
 "cells": [
  {
   "cell_type": "markdown",
   "metadata": {},
   "source": [
    "# Задание 1\n",
    "Напишите функцию date_range, которая возвращает список дней между датами start_date и end_date. \n",
    "Даты должны вводиться в формате YYYY-MM-DD."
   ]
  },
  {
   "cell_type": "code",
   "execution_count": 23,
   "metadata": {},
   "outputs": [],
   "source": [
    "def date_range():\n",
    "    from datetime import datetime as dt\n",
    "    from datetime import timedelta\n",
    "    start = input('Введите начальную дату в формате YYYY-MM-DD: ')\n",
    "    end = input('Введите конечную дату в формате YYYY-MM-DD: ')\n",
    "    begin = dt.strptime(start, '%Y-%m-%d')\n",
    "    finish = dt.strptime(end, '%Y-%m-%d')\n",
    "    dates = []\n",
    "    day = begin\n",
    "    while day < finish:\n",
    "        day += timedelta(days = 1)\n",
    "        toadd = dt.strftime(day, '%Y-%m-%d')\n",
    "        dates.append(toadd)\n",
    "    return(dates)\n",
    "        "
   ]
  },
  {
   "cell_type": "code",
   "execution_count": 24,
   "metadata": {},
   "outputs": [
    {
     "name": "stdout",
     "output_type": "stream",
     "text": [
      "Введите начальную дату в формате YYYY-MM-DD: 2008-05-06\n",
      "Введите конечную дату в формате YYYY-MM-DD: 2008-06-01\n"
     ]
    },
    {
     "data": {
      "text/plain": [
       "['2008-05-07',\n",
       " '2008-05-08',\n",
       " '2008-05-09',\n",
       " '2008-05-10',\n",
       " '2008-05-11',\n",
       " '2008-05-12',\n",
       " '2008-05-13',\n",
       " '2008-05-14',\n",
       " '2008-05-15',\n",
       " '2008-05-16',\n",
       " '2008-05-17',\n",
       " '2008-05-18',\n",
       " '2008-05-19',\n",
       " '2008-05-20',\n",
       " '2008-05-21',\n",
       " '2008-05-22',\n",
       " '2008-05-23',\n",
       " '2008-05-24',\n",
       " '2008-05-25',\n",
       " '2008-05-26',\n",
       " '2008-05-27',\n",
       " '2008-05-28',\n",
       " '2008-05-29',\n",
       " '2008-05-30',\n",
       " '2008-05-31',\n",
       " '2008-06-01']"
      ]
     },
     "execution_count": 24,
     "metadata": {},
     "output_type": "execute_result"
    }
   ],
   "source": [
    "date_range()"
   ]
  },
  {
   "cell_type": "markdown",
   "metadata": {},
   "source": [
    "# Задание 2\n",
    "Дополните функцию из первого задания проверкой на корректность дат. В случае неверного формата или если start_date > end_date должен возвращаться пустой список."
   ]
  },
  {
   "cell_type": "code",
   "execution_count": 62,
   "metadata": {},
   "outputs": [],
   "source": [
    "def date_range():\n",
    "    from datetime import datetime as dt\n",
    "    from datetime import timedelta\n",
    "    dates = []\n",
    "    start = input('Введите начальную дату в формате YYYY-MM-DD: ')\n",
    "    end = input('Введите конечную дату в формате YYYY-MM-DD: ')\n",
    "    try:\n",
    "        begin = dt.strptime(start, '%Y-%m-%d')\n",
    "        finish = dt.strptime(end, '%Y-%m-%d')\n",
    "    except:\n",
    "        return(dates)\n",
    "    if finish > begin:\n",
    "        day = begin\n",
    "        while day < finish:\n",
    "            day += timedelta(days = 1)\n",
    "            toadd = dt.strftime(day, '%Y-%m-%d')\n",
    "            dates.append(toadd)\n",
    "    else:\n",
    "        return(dates)\n",
    "    return(dates)"
   ]
  },
  {
   "cell_type": "code",
   "execution_count": 64,
   "metadata": {},
   "outputs": [
    {
     "name": "stdout",
     "output_type": "stream",
     "text": [
      "Введите начальную дату в формате YYYY-MM-DD: 2008-05-06\n",
      "Введите конечную дату в формате YYYY-MM-DD: 2008-05-01\n"
     ]
    },
    {
     "data": {
      "text/plain": [
       "[]"
      ]
     },
     "execution_count": 64,
     "metadata": {},
     "output_type": "execute_result"
    }
   ],
   "source": [
    "date_range()"
   ]
  },
  {
   "cell_type": "code",
   "execution_count": null,
   "metadata": {},
   "outputs": [],
   "source": []
  },
  {
   "cell_type": "code",
   "execution_count": null,
   "metadata": {},
   "outputs": [],
   "source": []
  },
  {
   "cell_type": "markdown",
   "metadata": {},
   "source": [
    "# Задание 3\n",
    "Дан поток дат в формате YYYY-MM-DD, в которых встречаются некорректные значения:\n",
    "stream = [‘2018-04-02’, ‘2018-02-29’, ‘2018-19-02’]\n",
    "\n",
    "Напишите функцию, которая проверяет эти даты на корректность. Т. е. для каждой даты возвращает True (дата корректна) или False (некорректная дата)."
   ]
  },
  {
   "cell_type": "code",
   "execution_count": 129,
   "metadata": {},
   "outputs": [],
   "source": [
    "stream = ['2018-04-02', '2018-02-29', '2018-19-02', '2010-05-45', '2000-01-25', '1100-01-02', '1992-02-29']\n",
    "def datecheck(dat_list):\n",
    "    from datetime import datetime as dt\n",
    "    for i in dat_list:\n",
    "            try:\n",
    "                print(i)\n",
    "                date = dt.strptime(i, '%Y-%m-%d')\n",
    "                check = True\n",
    "                print(check)\n",
    "            except:\n",
    "                check = False\n",
    "                print(check)"
   ]
  },
  {
   "cell_type": "code",
   "execution_count": 130,
   "metadata": {},
   "outputs": [
    {
     "name": "stdout",
     "output_type": "stream",
     "text": [
      "2018-04-02\n",
      "True\n",
      "2018-02-29\n",
      "False\n",
      "2018-19-02\n",
      "False\n",
      "2010-05-45\n",
      "False\n",
      "2000-01-25\n",
      "True\n",
      "1100-01-02\n",
      "True\n",
      "1992-02-29\n",
      "True\n"
     ]
    }
   ],
   "source": [
    "datecheck(stream)"
   ]
  },
  {
   "cell_type": "markdown",
   "metadata": {},
   "source": [
    "# Задание 4 (бонусное)\n",
    "Ваш коллега прислал код функции:\n",
    "\n",
    "DEFAULT_USER_COUNT = 3\n",
    "\n",
    "def delete_and_return_last_user(region, default_list=[‘A100’, ‘A101’, ‘A102’]):\n",
    "\"\"“\n",
    "Удаляет из списка default_list последнего пользователя\n",
    "и возвращает ID нового последнего пользователя.\n",
    "”\"\"\n",
    "element_to_delete = default_list[-1]\n",
    "default_list.remove(element_to_delete)\n",
    "\n",
    "return default_list[DEFAULT_USER_COUNT-2]\n",
    "При однократном вызове этой функции все работает корректно:\n",
    "delete_and_return_last_user(1)\n",
    "‘A101’\n",
    "\n",
    "Однако, при повторном вызове получается ошибка IndexError: list index out of range.\n",
    "\n",
    "Задание:\n",
    "\n",
    "Что значит ошибка list index out of range?\n",
    "Почему при первом запуске функция работает корректно, а при втором - нет?"
   ]
  },
  {
   "cell_type": "markdown",
   "metadata": {},
   "source": [
    "1. В списке нет элемента с таким индексом.\n",
    "2. Функция не учитывает изменения индексов при цикличном использовании. В последней строке явно указывается номер элемента в абсолютном значении, при втором запуске индексы не совпадают. "
   ]
  },
  {
   "cell_type": "code",
   "execution_count": null,
   "metadata": {},
   "outputs": [],
   "source": []
  },
  {
   "cell_type": "code",
   "execution_count": null,
   "metadata": {},
   "outputs": [],
   "source": []
  },
  {
   "cell_type": "code",
   "execution_count": null,
   "metadata": {},
   "outputs": [],
   "source": []
  }
 ],
 "metadata": {
  "kernelspec": {
   "display_name": "Python 3",
   "language": "python",
   "name": "python3"
  },
  "language_info": {
   "codemirror_mode": {
    "name": "ipython",
    "version": 3
   },
   "file_extension": ".py",
   "mimetype": "text/x-python",
   "name": "python",
   "nbconvert_exporter": "python",
   "pygments_lexer": "ipython3",
   "version": "3.7.4"
  }
 },
 "nbformat": 4,
 "nbformat_minor": 2
}
